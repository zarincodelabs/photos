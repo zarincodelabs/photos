{
  "nbformat": 4,
  "nbformat_minor": 0,
  "metadata": {
    "colab": {
      "provenance": [],
      "gpuType": "T4",
      "include_colab_link": true
    },
    "kernelspec": {
      "name": "python3",
      "display_name": "Python 3"
    },
    "language_info": {
      "name": "python"
    },
    "accelerator": "GPU"
  },
  "cells": [
    {
      "cell_type": "markdown",
      "metadata": {
        "id": "view-in-github",
        "colab_type": "text"
      },
      "source": [
        "<a href=\"https://colab.research.google.com/github/zarincodelabs/photos/blob/main/Zarin_AI_Deep_Fake_Photos.ipynb\" target=\"_parent\"><img src=\"https://colab.research.google.com/assets/colab-badge.svg\" alt=\"Open In Colab\"/></a>"
      ]
    },
    {
      "cell_type": "markdown",
      "source": [
        "<p><a href=\"https://www.youtube.com/@anas-muhammad?sub_confirmation=1\"><strong>Subscribe To My Youtube Channel For More Updates And Tutorials</strong></a></p>\n",
        "<h2>Some of our Services</h2>\n",
        "<p><a href=\"https://www.youtube.com/@anas-muhammad?sub_confirmation=1\"><strong>For Website, Mobile App & Software Development or Digital Marketing visit our website or Chat with us on Whatsapp</strong>\n",
        "</p>\n",
        "<a href=\"https://www.youtube.com/@anas-muhammad\" style=\"margin-left: 1em; margin-right: 1em;\"><img border=\"0\" data-original-height=\"500\" data-original-width=\"500\" height=\"200\" src=\"https://photos.zarin.solutions/logos/anas/youtube.png\" width=\"200\" /></a>\n",
        "<a href=\"https://www.youtube.com/@anas-muhammad?sub_confirmation=1\" style=\"margin-left: 1em; margin-right: 1em;\"><img border=\"0\" data-original-height=\"500\" data-original-width=\"500\" height=\"200\" src=\"https://photos.zarin.solutions/logos/anas/web.png\" width=\"200\" /></a>\n",
        "<a href=\"https://api.whatsapp.com/send/?phone=923051766663\" style=\"margin-left: 1em; margin-right: 1em;\"><img border=\"0\" data-original-height=\"500\" data-original-width=\"500\" height=\"200\" src=\"https://photos.zarin.solutions/logos/anas/whatsapp.png\" width=\"200\" /></a>\n",
        "<a href=\"https://zarinsolutions.com/\" style=\"margin-left: 1em; margin-right: 1em;\"><img border=\"0\" data-original-height=\"500\" data-original-width=\"500\" height=\"180\" src=\"https://photos.zarin.solutions/logos/zarin/logolandlow.png\" width=\"400\" /></a>"
      ],
      "metadata": {
        "id": "G9BdiCppV6AS"
      }
    },
    {
      "cell_type": "markdown",
      "source": [
        "---\n",
        "✋\n",
        "<p><b><span style=\"font-size: medium;\">If You See This Message:</span></b></p><p><b><span style=\"color: red; font-size: medium;\">RESTART RUNTIME</span></b></p><p><b><span style=\"font-size: medium;\">Ignore it and move to the next step</span></b></p>\n",
        "\n",
        "---"
      ],
      "metadata": {
        "id": "o46tI8deM8IL"
      }
    },
    {
      "cell_type": "code",
      "execution_count": null,
      "metadata": {
        "id": "t1yPuhdySqCq",
        "cellView": "form"
      },
      "outputs": [],
      "source": [
        "#@markdown ## Step 1 : Installing Roop (3 Minutes)\n",
        "\n",
        "#!git clone https://github.com/splendormagic/roop\n",
        "\n",
        "!git clone https://github.com/FurkanGozukara/roop\n",
        "\n",
        "%cd roop\n",
        "#Tested and updated 23 August 2023 commit\n",
        "#!git checkout da1ef285f1d43bd0cc8b9cdb9a0f80f7ae793a97\n",
        "!pip install onnxruntime-gpu && pip install -r requirements.txt\n",
        "\n",
        "from IPython.display import clear_output\n",
        "clear_output()"
      ]
    },
    {
      "cell_type": "code",
      "source": [
        "#@markdown ## Step 2 : Upload Target Image\n",
        "\n",
        "import os\n",
        "import shutil\n",
        "from google.colab import drive\n",
        "from google.colab import files\n",
        "from IPython.display import HTML, clear_output\n",
        "from base64 import b64encode\n",
        "import moviepy.editor as mp\n",
        "\n",
        "upload_method = \"Upload\" #@param [\"Upload\"]\n",
        "\n",
        "# remove previous input video\n",
        "if os.path.isfile('/content/roop/image.jpg'):\n",
        "    os.remove('/content/roop/image.jpg')\n",
        "\n",
        "if upload_method == \"Upload\":\n",
        "    uploaded = files.upload()\n",
        "    for filename in uploaded.keys():\n",
        "        os.rename(filename, '/content/roop/image.jpg')\n",
        "    PATH_TO_YOUR_IMAGE = '/content/roop/image.jpg'\n",
        "\n",
        "from IPython.display import clear_output\n",
        "clear_output()\n",
        "\n",
        "print(\"Image\")\n",
        "\n",
        "from IPython.display import Image\n",
        "Image(\"/content/roop/image.jpg\", width=320)"
      ],
      "metadata": {
        "id": "9B55-EZycqnz",
        "cellView": "form"
      },
      "execution_count": null,
      "outputs": []
    },
    {
      "cell_type": "code",
      "source": [
        "#@markdown ## Step 3 : Upload Face\n",
        "\n",
        "import os\n",
        "import shutil\n",
        "from google.colab import drive\n",
        "from google.colab import files\n",
        "from IPython.display import HTML, clear_output\n",
        "from base64 import b64encode\n",
        "import moviepy.editor as mp\n",
        "\n",
        "upload_method = \"Upload\" #@param [\"Upload\"]\n",
        "\n",
        "# remove previous input video\n",
        "if os.path.isfile('/content/roop/face.jpg'):\n",
        "    os.remove('/content/roop/face.jpg')\n",
        "\n",
        "if upload_method == \"Upload\":\n",
        "    uploaded = files.upload()\n",
        "    for filename in uploaded.keys():\n",
        "        os.rename(filename, '/content/roop/face.jpg')\n",
        "    PATH_TO_YOUR_FACE = '/content/roop/face.jpg'\n",
        "\n",
        "from IPython.display import clear_output\n",
        "clear_output()\n",
        "\n",
        "print(\"Face\")\n",
        "\n",
        "from IPython.display import Image\n",
        "Image(\"/content/roop/face.jpg\", width=320)"
      ],
      "metadata": {
        "id": "d8CstZO6gNlG",
        "cellView": "form"
      },
      "execution_count": null,
      "outputs": []
    },
    {
      "cell_type": "markdown",
      "source": [
        "---"
      ],
      "metadata": {
        "id": "ihAXPArSOypE"
      }
    },
    {
      "cell_type": "code",
      "source": [
        "#@markdown ## Step 4 : Creating Final Image\n",
        "%cd \"/content/roop\"\n",
        "!python run.py -s \"face.jpg\" -t \"image.jpg\" -o \"face_swapped_image.jpg\" --keep-frames --keep-fps --temp-frame-quality 1 --output-video-quality 1 --execution-provider cuda --frame-processor face_swapper face_enhancer\n",
        "\n",
        "from IPython.display import clear_output\n",
        "clear_output()\n",
        "\n",
        "print(\"Finished\")\n",
        "\n",
        "from IPython.display import Image\n",
        "Image(\"/content/roop/face_swapped_image.jpg\", width=320)"
      ],
      "metadata": {
        "id": "_j18G_uPqc37",
        "cellView": "form"
      },
      "execution_count": null,
      "outputs": []
    },
    {
      "cell_type": "code",
      "source": [
        "#@markdown ## Download Final Image\n",
        "%cd \"/content/roop\"\n",
        "from google.colab import files\n",
        "files.download('/content/roop/face_swapped_image.jpg')"
      ],
      "metadata": {
        "cellView": "form",
        "id": "Yfjbm_uyLyHh"
      },
      "execution_count": null,
      "outputs": []
    }
  ]
}